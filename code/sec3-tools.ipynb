{
 "cells": [
  {
   "cell_type": "markdown",
   "id": "018523b2",
   "metadata": {},
   "source": [
    "Cargar librerías"
   ]
  },
  {
   "cell_type": "code",
   "execution_count": 35,
   "id": "e94f03ba",
   "metadata": {},
   "outputs": [],
   "source": [
    "import numpy as np\n",
    "import pandas as pd\n",
    "import matplotlib.pyplot as plt"
   ]
  },
  {
   "cell_type": "markdown",
   "id": "6637f00e",
   "metadata": {},
   "source": [
    "Ciclos for:\n",
    "\n",
    "Tienen la siguiente estructura:\n",
    "\n",
    "```python\n",
    "for i in range(10):\n",
    "    print(i)\n",
    "```\n",
    "\n",
    "Es decir, \n",
    "\n",
    "```\n",
    "por cada valor i en una secuencia/lista/hasta un número\n",
    "    hacer algo con i\n",
    "```"
   ]
  },
  {
   "cell_type": "code",
   "execution_count": 36,
   "id": "44a631d7",
   "metadata": {},
   "outputs": [
    {
     "name": "stdout",
     "output_type": "stream",
     "text": [
      "0 0\n",
      "1 1\n",
      "2 4\n",
      "3 9\n",
      "4 16\n"
     ]
    }
   ],
   "source": [
    "# ciclos for\n",
    "for i in range(5):\n",
    "    print(i, i**2)"
   ]
  },
  {
   "cell_type": "markdown",
   "id": "2f05da12",
   "metadata": {},
   "source": [
    "Control de flujo condicional:\n",
    "\n",
    "```python\n",
    "if condicion:\n",
    "    hacer_algo()\n",
    "elif otra_condicion:\n",
    "    hacer_otra_cosa()\n",
    "else:\n",
    "    hacer_algo_mas()\n",
    "```"
   ]
  },
  {
   "cell_type": "code",
   "execution_count": 37,
   "id": "a3bf618e",
   "metadata": {},
   "outputs": [
    {
     "name": "stdout",
     "output_type": "stream",
     "text": [
      "0 es par\n",
      "1 es impar y no es múltiplo de 3\n",
      "2 es par\n",
      "3 es múltiplo de 3\n",
      "4 es par\n"
     ]
    }
   ],
   "source": [
    "for i in range(5):\n",
    "    if i % 2 == 0: # Si i es par\n",
    "        print(f\"{i} es par\")\n",
    "    elif i % 3 == 0: # Si i es múltiplo de 3\n",
    "        print(f\"{i} es múltiplo de 3\")\n",
    "    else:\n",
    "        print(f\"{i} es impar y no es múltiplo de 3\")"
   ]
  },
  {
   "cell_type": "markdown",
   "id": "cdca67dc",
   "metadata": {},
   "source": [
    "Funciones definidas por el usuario:\n",
    "\n",
    "```python\n",
    "def nombre_de_la_funcion(param1, param2):\n",
    "    # hacer algo con param1 y param2\n",
    "    return resultado\n",
    "```"
   ]
  },
  {
   "cell_type": "code",
   "execution_count": 38,
   "id": "eb76570b",
   "metadata": {},
   "outputs": [
    {
     "name": "stdout",
     "output_type": "stream",
     "text": [
      "8\n"
     ]
    }
   ],
   "source": [
    "def add(a, b):\n",
    "    return a + b\n",
    "\n",
    "# usar la función\n",
    "print(add(3, 5))"
   ]
  },
  {
   "cell_type": "code",
   "execution_count": 39,
   "id": "8c82480a",
   "metadata": {},
   "outputs": [
    {
     "name": "stdout",
     "output_type": "stream",
     "text": [
      "par\n",
      "impar\n"
     ]
    }
   ],
   "source": [
    "def check_even_odd(num):\n",
    "    if num % 2 == 0:\n",
    "        return \"par\"\n",
    "    else:\n",
    "        return \"impar\"\n",
    "\n",
    "print(check_even_odd(10))  # Output: par\n",
    "print(check_even_odd(7))   # Output: impar\n"
   ]
  },
  {
   "cell_type": "markdown",
   "id": "0fdad6e3",
   "metadata": {},
   "source": [
    "Cargar datos desde un archivo CSV:\n",
    "\n",
    "```python\n",
    "import pandas as pd\n",
    "data = pd.read_csv('ruta/al/archivo.csv')\n",
    "```"
   ]
  },
  {
   "cell_type": "code",
   "execution_count": 40,
   "id": "4f0085dd",
   "metadata": {},
   "outputs": [
    {
     "name": "stdout",
     "output_type": "stream",
     "text": [
      "   mass  elong\n",
      "0    50  1.000\n",
      "1   100  1.875\n",
      "2   150  2.750\n",
      "3   200  3.250\n",
      "4   250  4.375\n"
     ]
    }
   ],
   "source": [
    "# los dos puntos '../data/' indican que el archivo está en el directorio padre\n",
    "# respecto al directorio actual del script\n",
    "# (es decir, un nivel arriba en la jerarquía de carpetas)\n",
    "datos = pd.read_csv('../data/spring-mass.csv')\n",
    "print(datos.head()) # Muestra las primeras filas del DataFrame"
   ]
  },
  {
   "cell_type": "markdown",
   "id": "4666cd06",
   "metadata": {},
   "source": [
    "Graficar datos:\n",
    "\n",
    "```python\n",
    "import matplotlib.pyplot as plt\n",
    "plt.scatter(data['columna_x'], data['columna_y'])\n",
    "plt.xlabel('Etiqueta X')\n",
    "plt.ylabel('Etiqueta Y')\n",
    "plt.title('Título del Gráfico')\n",
    "plt.show()\n",
    "```"
   ]
  },
  {
   "cell_type": "code",
   "execution_count": 41,
   "id": "0bd66914",
   "metadata": {},
   "outputs": [
    {
     "data": {
      "image/png": "[encoded data removed]",
      "text/plain": [
       "<Figure size 640x480 with 1 Axes>"
      ]
     },
     "metadata": {},
     "output_type": "display_data"
    }
   ],
   "source": [
    "plt.scatter(datos['mass'], datos['elong'])\n",
    "plt.xlabel('Mass Attached to Spring')\n",
    "plt.ylabel('Elongation of Spring')\n",
    "plt.title('Scatterplot of Mass vs Spring')\n",
    "plt.show()"
   ]
  },
  {
   "cell_type": "markdown",
   "id": "9eca88b2",
   "metadata": {},
   "source": [
    "**Modelo simple de resorte**\n",
    "\n",
    "Podemos intentar modelar este comportamiento. La asunción es que la fuerza que ejerce el resorte es proporcional a su elongación:\n",
    "$$F = k \\cdot x$$\n",
    "donde:\n",
    "- \\(F\\) es la fuerza (en Newtons, N)\n",
    "- \\(k\\) es la constante del resorte (en N/m)\n",
    "- \\(x\\) es la elongación del resorte (en metros, m)\n",
    "\n",
    "Podemos asumir lo más simple: que $k$ es una pendiente y no existe ruido en los datos. En ese caso, sabemos que la pendiente es la razón de cambio entre dos puntos en una línea recta:\n",
    "\n",
    "$$\\text{slope} = k = \\frac{y_2 - y_1}{x_2 - x_1}$$\n"
   ]
  },
  {
   "cell_type": "code",
   "execution_count": 42,
   "id": "cb697a20",
   "metadata": {},
   "outputs": [
    {
     "name": "stdout",
     "output_type": "stream",
     "text": [
      "La pendiente es 0.0155\n"
     ]
    }
   ],
   "source": [
    "y1 = datos['elong'].iloc[0] # primer valor de elong\n",
    "y2 = datos['elong'].iloc[-1] # último valor de elong\n",
    "x1 = datos['mass'].iloc[0] # primer valor de mass\n",
    "x2 = datos['mass'].iloc[-1] # último valor de mass\n",
    "k = (y2 - y1) / (x2 - x1) # pendiente\n",
    "print(f\"La pendiente es {k}\")"
   ]
  },
  {
   "cell_type": "markdown",
   "id": "7a13c4dd",
   "metadata": {},
   "source": [
    "¿Cómo podemos evaluar si esta aproximación es buena o, al menos, decente? Podemos graficar la línea que resulta de usar esta pendiente y ver qué tan bien se ajusta a los datos."
   ]
  },
  {
   "cell_type": "code",
   "execution_count": 43,
   "id": "d00d2249",
   "metadata": {},
   "outputs": [
    {
     "data": {
      "text/plain": [
       "Text(0.5, 1.0, 'Scatterplot of Mass vs Spring with Best Fit Line')"
      ]
     },
     "execution_count": 43,
     "metadata": {},
     "output_type": "execute_result"
    },
    {
     "data": {
      "image/png": "[encoded data removed]",
      "text/plain": [
       "<Figure size 640x480 with 1 Axes>"
      ]
     },
     "metadata": {},
     "output_type": "display_data"
    }
   ],
   "source": [
    "# creamos un vector de valores de x\n",
    "x_vals = np.linspace(datos['mass'].min(), datos['mass'].max(), 100)\n",
    "# y calculamos los valores correspondientes de y usando la pendiente k\n",
    "y_vals = k * (x_vals - x1) + y1\n",
    "# graficamos los datos originales\n",
    "plt.scatter(datos['mass'], datos['elong'], label='Datos Originales')\n",
    "# y la línea de mejor ajuste\n",
    "plt.plot(x_vals, y_vals, color='red', label='Línea de Mejor Ajuste')\n",
    "plt.xlabel('Mass Attached to Spring')\n",
    "plt.ylabel('Elongation of Spring')\n",
    "plt.title('Scatterplot of Mass vs Spring with Best Fit Line')"
   ]
  },
  {
   "cell_type": "markdown",
   "id": "eb9b9987",
   "metadata": {},
   "source": [
    "### La forma punto-pendiente de una línea recta\n",
    "\n",
    "La ecuación que usamos:\n",
    "```python\n",
    "y_vals = k * (x_vals - x1) + y1\n",
    "```\n",
    "\n",
    "Es la forma \"punto-pendiente\" de una línea recta. Esta forma es:\n",
    "\n",
    "$y - y_1 = k(x - x_1)$\n",
    "\n",
    "donde:\n",
    "- $(x_1, y_1)$ es un punto conocido por el que pasa la línea\n",
    "- $k$ es la pendiente\n",
    "- $(x, y)$ son los puntos de la línea\n",
    "\n",
    "Al despejar $y$ obtenemos:\n",
    "\n",
    "$y = k(x - x_1) + y_1$\n",
    "\n",
    "Esta forma es útil porque:\n",
    "1. Garantiza que la línea pase por el punto $(x_1, y_1)$\n",
    "2. Mantiene la pendiente $k$ que calculamos\n",
    "3. Nos permite calcular cualquier punto $y$ en la línea dado un valor $x$"
   ]
  }
 ],
 "metadata": {
  "kernelspec": {
   "display_name": "base",
   "language": "python",
   "name": "python3"
  },
  "language_info": {
   "codemirror_mode": {
    "name": "ipython",
    "version": 3
   },
   "file_extension": ".py",
   "mimetype": "text/x-python",
   "name": "python",
   "nbconvert_exporter": "python",
   "pygments_lexer": "ipython3",
   "version": "3.13.5"
  }
 },
 "nbformat": 4,
 "nbformat_minor": 5
}
