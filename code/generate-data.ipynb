{
 "cells": [
  {
   "cell_type": "markdown",
   "id": "0763eccb",
   "metadata": {},
   "source": [
    "Table 1.1 from A first course in Mathematical modeling"
   ]
  },
  {
   "cell_type": "code",
   "execution_count": 12,
   "id": "7dde60a4",
   "metadata": {},
   "outputs": [],
   "source": [
    "import pandas as pd\n",
    "import numpy as np\n",
    "import matplotlib.pyplot as plt\n",
    "from scipy.stats import weibull_min"
   ]
  },
  {
   "cell_type": "code",
   "execution_count": 13,
   "id": "ffc7dd3d",
   "metadata": {},
   "outputs": [],
   "source": [
    "spring_mass = pd.DataFrame({\n",
    "  \"mass\": [50, 100, 150, 200, 250, 300, 350, 400, 450, 500, 550],\n",
    "  \"elong\": [1.000, 1.875, 2.750, 3.250, 4.375, 4.875, 5.675, 6.500, 7.250, 8.000, 8.750]\n",
    "})\n",
    "spring_mass.to_csv(\"../data/spring-mass.csv\", index=False)"
   ]
  },
  {
   "cell_type": "code",
   "execution_count": 14,
   "id": "e6e6f4cf",
   "metadata": {},
   "outputs": [],
   "source": [
    "np.random.seed(42)\n",
    "true_k = 2.5\n",
    "true_lambda = 1000\n",
    "sample_size = 1500\n",
    "# Generamos los datos de tiempos de falla\n",
    "failure_times = weibull_min.rvs(c=true_k, scale=true_lambda, size=sample_size)\n",
    "# Guardamos los datos en un archivo CSV\n",
    "pd.DataFrame(failure_times, columns=[\"failure_time\"]).to_csv(\"../data/failure-times.csv\", index=False)"
   ]
  }
 ],
 "metadata": {
  "kernelspec": {
   "display_name": "base",
   "language": "python",
   "name": "python3"
  },
  "language_info": {
   "codemirror_mode": {
    "name": "ipython",
    "version": 3
   },
   "file_extension": ".py",
   "mimetype": "text/x-python",
   "name": "python",
   "nbconvert_exporter": "python",
   "pygments_lexer": "ipython3",
   "version": "3.13.5"
  }
 },
 "nbformat": 4,
 "nbformat_minor": 5
}
